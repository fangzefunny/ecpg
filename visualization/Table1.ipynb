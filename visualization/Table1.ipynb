{
 "cells": [
  {
   "cell_type": "code",
   "execution_count": 35,
   "metadata": {},
   "outputs": [],
   "source": [
    "import numpy as np \n",
    "import pandas as pd \n",
    "import pickle\n",
    "\n",
    "# visualizatioion pkg \n",
    "import seaborn as sns \n",
    "import matplotlib.pyplot as plt \n",
    "%matplotlib inline\n",
    "%config InlineBackend.figure_format='retina'\n",
    "\n",
    "import sys\n",
    "sys.path.append('..')\n",
    "\n",
    "from utils.viz import viz \n",
    "from utils.model import *  \n",
    "from utils.fig_fn import *\n",
    "from utils.tools import *\n",
    "viz.get_style()"
   ]
  },
  {
   "cell_type": "code",
   "execution_count": 2,
   "metadata": {},
   "outputs": [
    {
     "name": "stdout",
     "output_type": "stream",
     "text": [
      "\n",
      "             # ------------------------------- rmPG --------------------------------- #\n",
      "                 Overall nll: 114.562      aic: 231.124      bic: 234.499\n",
      "                 Train nll: 66.196         aic: 134.392      bic: 137.179            \n",
      "                 Test nll: 48.366          aic: 98.732       bic: 101.520 \n",
      "         \n",
      "\n",
      "             # ------------------------------- caPG --------------------------------- #\n",
      "                 Overall nll: 111.160      aic: 226.319      bic: 233.070\n",
      "                 Train nll: 64.235         aic: 132.470      bic: 138.045            \n",
      "                 Test nll: 46.925          aic: 97.850       bic: 103.425 \n",
      "         \n",
      "\n",
      "             # ------------------------------- ecPG --------------------------------- #\n",
      "                 Overall nll: 101.202      aic: 208.403      bic: 218.529\n",
      "                 Train nll: 62.061         aic: 130.121      bic: 138.484            \n",
      "                 Test nll: 39.141          aic: 84.282       bic: 92.644 \n",
      "         \n"
     ]
    }
   ],
   "source": [
    "table1 = get_table1('exp1', ['rmPG', 'caPG', 'ecPG', ''], 'map')"
   ]
  },
  {
   "cell_type": "code",
   "execution_count": 8,
   "metadata": {},
   "outputs": [],
   "source": [
    "table1.to_csv('../figures/exp1/Table1.csv')"
   ]
  },
  {
   "cell_type": "code",
   "execution_count": 5,
   "metadata": {},
   "outputs": [
    {
     "name": "stdout",
     "output_type": "stream",
     "text": [
      "\n",
      "             # --------------------- rmPG_fea --------------------- #\n",
      "                 Tot nll: 196.291      aic: 394.583      bic: 398.469\n",
      "                 cons nll: 56.465      aic: 114.929      bic: 117.717            \n",
      "                 cont nll: 64.176      aic: 130.351      bic: 133.139\n",
      "                 conf nll: 75.651      aic: 153.302      bic: 156.089 \n",
      "         \n",
      "\n",
      "             # --------------------- caPG_fea --------------------- #\n",
      "                 Tot nll: 190.740      aic: 385.480      bic: 393.252\n",
      "                 cons nll: 55.154      aic: 114.307      bic: 119.882            \n",
      "                 cont nll: 61.410      aic: 126.821      bic: 132.395\n",
      "                 conf nll: 74.176      aic: 152.352      bic: 157.927 \n",
      "         \n",
      "\n",
      "             # --------------------- ecPG_fea --------------------- #\n",
      "                 Tot nll: 170.913      aic: 347.826      bic: 359.484\n",
      "                 cons nll: 47.357      aic: 100.715      bic: 109.077            \n",
      "                 cont nll: 56.948      aic: 119.897      bic: 128.259\n",
      "                 conf nll: 66.607      aic: 139.215      bic: 147.577 \n",
      "         \n",
      "\n",
      "             # --------------------- LC --------------------- #\n",
      "                 Tot nll: 180.222      aic: 366.445      bic: 378.103\n",
      "                 cons nll: 51.416      aic: 108.831      bic: 117.194            \n",
      "                 cont nll: 59.687      aic: 125.375      bic: 133.737\n",
      "                 conf nll: 69.119      aic: 144.239      bic: 152.601 \n",
      "         \n",
      "\n",
      "             # --------------------- MA --------------------- #\n",
      "                 Tot nll: 176.958      aic: 361.917      bic: 377.461\n",
      "                 cons nll: 48.993      aic: 105.986      bic: 117.136            \n",
      "                 cont nll: 57.689      aic: 123.379      bic: 134.529\n",
      "                 conf nll: 70.276      aic: 148.552      bic: 159.702 \n",
      "         \n",
      "\n",
      "             # --------------------- ACL --------------------- #\n",
      "                 Tot nll: 171.557      aic: 353.114      bic: 372.545\n",
      "                 cons nll: 44.073      aic: 98.147      bic: 112.084            \n",
      "                 cont nll: 58.525      aic: 127.050      bic: 140.988\n",
      "                 conf nll: 68.959      aic: 147.917      bic: 161.855 \n",
      "         \n",
      "\n",
      "             # --------------------- l1PG_fea --------------------- #\n",
      "                 Tot nll: 176.716      aic: 359.433      bic: 371.091\n",
      "                 cons nll: 48.151      aic: 102.302      bic: 110.664            \n",
      "                 cont nll: 59.253      aic: 124.506      bic: 132.869\n",
      "                 conf nll: 69.312      aic: 144.625      bic: 152.987 \n",
      "         \n",
      "\n",
      "             # --------------------- l2PG_fea --------------------- #\n",
      "                 Tot nll: 172.168      aic: 350.336      bic: 361.994\n",
      "                 cons nll: 47.412      aic: 100.823      bic: 109.186            \n",
      "                 cont nll: 57.944      aic: 121.887      bic: 130.250\n",
      "                 conf nll: 66.813      aic: 139.625      bic: 147.988 \n",
      "         \n",
      "\n",
      "             # --------------------- dcPG_fea --------------------- #\n",
      "                 Tot nll: 190.792      aic: 387.585      bic: 399.243\n",
      "                 cons nll: 55.166      aic: 116.333      bic: 124.695            \n",
      "                 cont nll: 61.425      aic: 128.851      bic: 137.213\n",
      "                 conf nll: 74.201      aic: 154.402      bic: 162.764 \n",
      "         \n"
     ]
    }
   ],
   "source": [
    "models = ['rmPG_fea', 'caPG_fea', 'ecPG_fea', \n",
    "          'LC', 'MA', 'ACL', \n",
    "          'l1PG_fea', 'l2PG_fea', 'dcPG_fea']\n",
    "table2 = get_table2('exp2', models, 'map')"
   ]
  },
  {
   "cell_type": "code",
   "execution_count": 7,
   "metadata": {},
   "outputs": [],
   "source": [
    "table2.to_csv('../figures/exp2/Table2.csv')"
   ]
  },
  {
   "cell_type": "markdown",
   "metadata": {},
   "source": [
    "## Extended Data 2"
   ]
  },
  {
   "cell_type": "code",
   "execution_count": 36,
   "metadata": {},
   "outputs": [],
   "source": [
    "models = ['rmPG', 'caPG', 'ecPG']\n",
    "for m in models: \n",
    "    get_fit_param('exp1', m, method='map')"
   ]
  },
  {
   "cell_type": "code",
   "execution_count": 37,
   "metadata": {},
   "outputs": [],
   "source": [
    "df = get_fit_param('exp1', 'rmPG', method='map')\n",
    "df['model'] = 'rmPG'\n",
    "p_names = df.columns[:-2]"
   ]
  },
  {
   "cell_type": "code",
   "execution_count": 51,
   "metadata": {},
   "outputs": [
    {
     "name": "stdout",
     "output_type": "stream",
     "text": [
      "155\n",
      "0.567+-0.630\n"
     ]
    }
   ],
   "source": [
    "p = 'alpha'\n",
    "ub = df[p].quantile(.975)\n",
    "lb = df[p].quantile(.025)\n",
    "valid_df = df.query(f'{p}>={lb} & {p}<={ub}')\n",
    "print(valid_df.shape[0])\n",
    "mu  = valid_df.groupby(by='model')[p].mean().reset_index().loc[0, p]\n",
    "sd = valid_df.groupby(by='model')[p].std().reset_index().loc[0, p]\n",
    "s  = f'{mu:.3f}+-{sd:.3f}'\n",
    "print(s)"
   ]
  },
  {
   "cell_type": "code",
   "execution_count": 46,
   "metadata": {},
   "outputs": [
    {
     "data": {
      "text/html": [
       "<div>\n",
       "<style scoped>\n",
       "    .dataframe tbody tr th:only-of-type {\n",
       "        vertical-align: middle;\n",
       "    }\n",
       "\n",
       "    .dataframe tbody tr th {\n",
       "        vertical-align: top;\n",
       "    }\n",
       "\n",
       "    .dataframe thead th {\n",
       "        text-align: right;\n",
       "    }\n",
       "</style>\n",
       "<table border=\"1\" class=\"dataframe\">\n",
       "  <thead>\n",
       "    <tr style=\"text-align: right;\">\n",
       "      <th></th>\n",
       "      <th>model</th>\n",
       "      <th>alpha</th>\n",
       "    </tr>\n",
       "  </thead>\n",
       "  <tbody>\n",
       "  </tbody>\n",
       "</table>\n",
       "</div>"
      ],
      "text/plain": [
       "Empty DataFrame\n",
       "Columns: [model, alpha]\n",
       "Index: []"
      ]
     },
     "execution_count": 46,
     "metadata": {},
     "output_type": "execute_result"
    }
   ],
   "source": [
    "mu"
   ]
  },
  {
   "cell_type": "code",
   "execution_count": 25,
   "metadata": {},
   "outputs": [
    {
     "data": {
      "text/html": [
       "<div>\n",
       "<style scoped>\n",
       "    .dataframe tbody tr th:only-of-type {\n",
       "        vertical-align: middle;\n",
       "    }\n",
       "\n",
       "    .dataframe tbody tr th {\n",
       "        vertical-align: top;\n",
       "    }\n",
       "\n",
       "    .dataframe thead th {\n",
       "        text-align: right;\n",
       "    }\n",
       "</style>\n",
       "<table border=\"1\" class=\"dataframe\">\n",
       "  <thead>\n",
       "    <tr style=\"text-align: right;\">\n",
       "      <th></th>\n",
       "      <th>model</th>\n",
       "      <th>alpha</th>\n",
       "    </tr>\n",
       "  </thead>\n",
       "  <tbody>\n",
       "    <tr>\n",
       "      <th>0</th>\n",
       "      <td>rmPG</td>\n",
       "      <td>2.434944</td>\n",
       "    </tr>\n",
       "  </tbody>\n",
       "</table>\n",
       "</div>"
      ],
      "text/plain": [
       "  model     alpha\n",
       "0  rmPG  2.434944"
      ]
     },
     "execution_count": 25,
     "metadata": {},
     "output_type": "execute_result"
    }
   ],
   "source": [
    "df.groupby(by='model')['alpha'].mean().reset_index()\n",
    "df.groupby(by='model')['alpha'].mean().reset_index()"
   ]
  },
  {
   "cell_type": "code",
   "execution_count": 34,
   "metadata": {},
   "outputs": [
    {
     "data": {
      "text/plain": [
       "(0.0, 5.0)"
      ]
     },
     "execution_count": 34,
     "metadata": {},
     "output_type": "execute_result"
    },
    {
     "data": {
      "image/png": "[encoded data removed]",
      "text/plain": [
       "<Figure size 200x300 with 1 Axes>"
      ]
     },
     "metadata": {
      "image/png": {
       "height": 326,
       "width": 233
      },
      "needs_background": "light"
     },
     "output_type": "display_data"
    }
   ],
   "source": [
    "fig, ax = plt.subplots(1, 1, figsize=(2, 3))\n",
    "viz.violin(ax, y='alpha', x='model', order=['rmPG'],\n",
    "            data=df, palette=[viz.Blue]) \n",
    "ax.set_ylim([0, 5])"
   ]
  },
  {
   "cell_type": "code",
   "execution_count": null,
   "metadata": {},
   "outputs": [],
   "source": []
  }
 ],
 "metadata": {
  "language_info": {
   "name": "python"
  }
 },
 "nbformat": 4,
 "nbformat_minor": 2
}
