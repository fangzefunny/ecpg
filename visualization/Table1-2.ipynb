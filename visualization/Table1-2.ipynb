{
 "cells": [
  {
   "cell_type": "code",
   "execution_count": 9,
   "metadata": {},
   "outputs": [],
   "source": [
    "import numpy as np \n",
    "import pandas as pd \n",
    "import pickle\n",
    "\n",
    "# visualizatioion pkg \n",
    "import seaborn as sns \n",
    "import matplotlib.pyplot as plt \n",
    "%matplotlib inline\n",
    "%config InlineBackend.figure_format='retina'\n",
    "\n",
    "import sys\n",
    "sys.path.append('..')\n",
    "\n",
    "from utils.viz import viz \n",
    "from utils.model import *  \n",
    "from utils.fig_fn import *\n",
    "from utils.tools import *\n",
    "viz.get_style()"
   ]
  },
  {
   "cell_type": "code",
   "execution_count": 5,
   "metadata": {},
   "outputs": [
    {
     "name": "stdout",
     "output_type": "stream",
     "text": [
      "\n",
      "             # ------------------------------- rmPG --------------------------------- #\n",
      "                 Overall nll: 114.562      aic: 231.124      bic: 234.499\n",
      "                 Train nll: 66.196         aic: 134.392      bic: 137.179            \n",
      "                 Test nll: 48.366          aic: 98.732       bic: 101.520 \n",
      "         \n",
      "\n",
      "             # ------------------------------- caPG --------------------------------- #\n",
      "                 Overall nll: 111.160      aic: 226.319      bic: 233.070\n",
      "                 Train nll: 64.235         aic: 132.470      bic: 138.045            \n",
      "                 Test nll: 46.925          aic: 97.850       bic: 103.425 \n",
      "         \n",
      "\n",
      "             # ------------------------------- ecPG --------------------------------- #\n",
      "                 Overall nll: 101.202      aic: 208.403      bic: 218.529\n",
      "                 Train nll: 62.061         aic: 130.121      bic: 138.484            \n",
      "                 Test nll: 39.141          aic: 84.282       bic: 92.644 \n",
      "         \n",
      "\n",
      "             # ------------------------------- l1PG --------------------------------- #\n",
      "                 Overall nll: 106.403      aic: 218.807      bic: 228.933\n",
      "                 Train nll: 64.189         aic: 134.378      bic: 142.741            \n",
      "                 Test nll: 42.214          aic: 90.428       bic: 98.791 \n",
      "         \n",
      "\n",
      "             # ------------------------------- l2PG --------------------------------- #\n",
      "                 Overall nll: 101.104      aic: 208.208      bic: 218.334\n",
      "                 Train nll: 62.471         aic: 130.942      bic: 139.304            \n",
      "                 Test nll: 38.633          aic: 83.266       bic: 91.629 \n",
      "         \n",
      "\n",
      "             # ------------------------------- dcPG --------------------------------- #\n",
      "                 Overall nll: 111.053      aic: 228.106      bic: 238.232\n",
      "                 Train nll: 64.209         aic: 134.418      bic: 142.780            \n",
      "                 Test nll: 46.844          aic: 99.689       bic: 108.051 \n",
      "         \n"
     ]
    }
   ],
   "source": [
    "models = ['rmPG', 'caPG', 'ecPG', 'l1PG', 'l2PG', 'dcPG']\n",
    "table1 = get_table1('exp1', models, 'map')"
   ]
  },
  {
   "cell_type": "code",
   "execution_count": 7,
   "metadata": {},
   "outputs": [],
   "source": [
    "table1.to_csv('../figures/exp1/Table1.csv')"
   ]
  },
  {
   "cell_type": "code",
   "execution_count": 5,
   "metadata": {},
   "outputs": [
    {
     "name": "stdout",
     "output_type": "stream",
     "text": [
      "\n",
      "             # --------------------- rmPG_fea --------------------- #\n",
      "                 Tot nll: 196.291      aic: 394.583      bic: 398.469\n",
      "                 cons nll: 56.465      aic: 114.929      bic: 117.717            \n",
      "                 cont nll: 64.176      aic: 130.351      bic: 133.139\n",
      "                 conf nll: 75.651      aic: 153.302      bic: 156.089 \n",
      "         \n",
      "\n",
      "             # --------------------- caPG_fea --------------------- #\n",
      "                 Tot nll: 190.740      aic: 385.480      bic: 393.252\n",
      "                 cons nll: 55.154      aic: 114.307      bic: 119.882            \n",
      "                 cont nll: 61.410      aic: 126.821      bic: 132.395\n",
      "                 conf nll: 74.176      aic: 152.352      bic: 157.927 \n",
      "         \n",
      "\n",
      "             # --------------------- ecPG_fea --------------------- #\n",
      "                 Tot nll: 170.913      aic: 347.826      bic: 359.484\n",
      "                 cons nll: 47.357      aic: 100.715      bic: 109.077            \n",
      "                 cont nll: 56.948      aic: 119.897      bic: 128.259\n",
      "                 conf nll: 66.607      aic: 139.215      bic: 147.577 \n",
      "         \n",
      "\n",
      "             # --------------------- LC --------------------- #\n",
      "                 Tot nll: 180.222      aic: 366.445      bic: 378.103\n",
      "                 cons nll: 51.416      aic: 108.831      bic: 117.194            \n",
      "                 cont nll: 59.687      aic: 125.375      bic: 133.737\n",
      "                 conf nll: 69.119      aic: 144.239      bic: 152.601 \n",
      "         \n",
      "\n",
      "             # --------------------- MA --------------------- #\n",
      "                 Tot nll: 176.958      aic: 361.917      bic: 377.461\n",
      "                 cons nll: 48.993      aic: 105.986      bic: 117.136            \n",
      "                 cont nll: 57.689      aic: 123.379      bic: 134.529\n",
      "                 conf nll: 70.276      aic: 148.552      bic: 159.702 \n",
      "         \n",
      "\n",
      "             # --------------------- ACL --------------------- #\n",
      "                 Tot nll: 171.557      aic: 353.114      bic: 372.545\n",
      "                 cons nll: 44.073      aic: 98.147      bic: 112.084            \n",
      "                 cont nll: 58.525      aic: 127.050      bic: 140.988\n",
      "                 conf nll: 68.959      aic: 147.917      bic: 161.855 \n",
      "         \n",
      "\n",
      "             # --------------------- l1PG_fea --------------------- #\n",
      "                 Tot nll: 176.716      aic: 359.433      bic: 371.091\n",
      "                 cons nll: 48.151      aic: 102.302      bic: 110.664            \n",
      "                 cont nll: 59.253      aic: 124.506      bic: 132.869\n",
      "                 conf nll: 69.312      aic: 144.625      bic: 152.987 \n",
      "         \n",
      "\n",
      "             # --------------------- l2PG_fea --------------------- #\n",
      "                 Tot nll: 172.168      aic: 350.336      bic: 361.994\n",
      "                 cons nll: 47.412      aic: 100.823      bic: 109.186            \n",
      "                 cont nll: 57.944      aic: 121.887      bic: 130.250\n",
      "                 conf nll: 66.813      aic: 139.625      bic: 147.988 \n",
      "         \n",
      "\n",
      "             # --------------------- dcPG_fea --------------------- #\n",
      "                 Tot nll: 190.792      aic: 387.585      bic: 399.243\n",
      "                 cons nll: 55.166      aic: 116.333      bic: 124.695            \n",
      "                 cont nll: 61.425      aic: 128.851      bic: 137.213\n",
      "                 conf nll: 74.201      aic: 154.402      bic: 162.764 \n",
      "         \n"
     ]
    }
   ],
   "source": [
    "models = ['rmPG_fea', 'caPG_fea', 'ecPG_fea', \n",
    "          'LC', 'MA', 'ACL', \n",
    "          'l1PG_fea', 'l2PG_fea', 'dcPG_fea']\n",
    "table2 = get_table2('exp2', models, 'map')"
   ]
  },
  {
   "cell_type": "code",
   "execution_count": 7,
   "metadata": {},
   "outputs": [],
   "source": [
    "table2.to_csv('../figures/exp2/Table2.csv')"
   ]
  },
  {
   "cell_type": "markdown",
   "metadata": {},
   "source": [
    "## Extended Data 2"
   ]
  },
  {
   "cell_type": "code",
   "execution_count": 19,
   "metadata": {},
   "outputs": [],
   "source": [
    "def print_params(data_set, models, method):\n",
    "    for m in models: \n",
    "        df = get_fit_param(data_set, m, method=method)\n",
    "        df['model'] = m\n",
    "        p_names = df.columns[:-2]\n",
    "        print(f'{m}:')\n",
    "        for p in p_names:\n",
    "            ub = df[p].quantile(.975)\n",
    "            lb = df[p].quantile(.025)\n",
    "            valid_df = df.query(f'{p}>={lb} & {p}<={ub}')\n",
    "            mu  = valid_df.groupby(by='model')[p].mean().reset_index().loc[0, p]\n",
    "            sd = valid_df.groupby(by='model')[p].std().reset_index().loc[0, p]\n",
    "            s  = f'{mu:.3f}+-{sd:.3f}'\n",
    "            print(f'\\t{p}:{s}')"
   ]
  },
  {
   "cell_type": "code",
   "execution_count": 21,
   "metadata": {},
   "outputs": [
    {
     "name": "stdout",
     "output_type": "stream",
     "text": [
      "rmPG:\n",
      "\talpha:0.567+-0.630\n",
      "caPG:\n",
      "\talpha_psi:4.376+-6.519\n",
      "\talpha_rho:1.553+-1.753\n",
      "ecPG:\n",
      "\talpha_psi:14.983+-14.881\n",
      "\talpha_rho:2.336+-2.926\n",
      "\tlmbda:0.112+-0.277\n"
     ]
    }
   ],
   "source": [
    "data_set = 'exp1'\n",
    "models = ['rmPG', 'caPG', 'ecPG']\n",
    "method = 'map'\n",
    "print_params(data_set, models, method)"
   ]
  },
  {
   "cell_type": "code",
   "execution_count": 22,
   "metadata": {},
   "outputs": [
    {
     "name": "stdout",
     "output_type": "stream",
     "text": [
      "rmPG_fea:\n",
      "\talpha:0.162+-0.132\n",
      "caPG_fea:\n",
      "\talpha_psi:32.410+-47.029\n",
      "\talpha_rho:1.321+-1.169\n",
      "ecPG_fea:\n",
      "\talpha_psi:5.776+-8.094\n",
      "\talpha_rho:1.483+-1.185\n",
      "\tlmbda:0.024+-0.072\n",
      "LC:\n",
      "\teta:0.108+-0.232\n",
      "\talpha:1.637+-5.515\n",
      "\tbeta:127.218+-416.861\n",
      "MA:\n",
      "\talpha_Q:0.090+-0.117\n",
      "\talpha_assoc:0.730+-0.379\n",
      "\tbeta_assoc:7.481+-4.456\n",
      "\tbeta:8.977+-8.106\n",
      "ACL:\n",
      "\teta:0.393+-0.357\n",
      "\tbeta:7.184+-6.221\n",
      "\teta_attn:0.609+-0.362\n",
      "\tepsilon:0.217+-0.343\n",
      "\tbeta_attn:25.452+-17.876\n",
      "l1PG_fea:\n",
      "\talpha_psi:1.016+-2.191\n",
      "\talpha_rho:1.779+-1.396\n",
      "\tlmbda:0.056+-0.246\n",
      "l2PG_fea:\n",
      "\talpha_psi:1.479+-2.279\n",
      "\talpha_rho:1.579+-1.185\n",
      "\tlmbda:0.107+-0.671\n",
      "dcPG_fea:\n",
      "\talpha_psi:30.620+-43.514\n",
      "\talpha_rho:0.027+-0.095\n",
      "\tlmbda:0.012+-0.038\n"
     ]
    }
   ],
   "source": [
    "data_set = 'exp2'\n",
    "models = ['rmPG_fea', 'caPG_fea', 'ecPG_fea', \n",
    "          'LC', 'MA', 'ACL', \n",
    "          'l1PG_fea', 'l2PG_fea', 'dcPG_fea']\n",
    "method = 'map'\n",
    "print_params(data_set, models, method)"
   ]
  }
 ],
 "metadata": {
  "language_info": {
   "name": "python"
  }
 },
 "nbformat": 4,
 "nbformat_minor": 2
}
